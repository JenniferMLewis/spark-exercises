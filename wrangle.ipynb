{
 "cells": [
  {
   "cell_type": "code",
   "execution_count": 1,
   "metadata": {},
   "outputs": [],
   "source": [
    "import pandas as pd\n",
    "import os\n",
    "\n",
    "# from sqlalchemy import *\n",
    "from pyspark.sql import SparkSession\n",
    "from pyspark.sql.functions import * \n",
    "\n",
    "from env import user, password, host\n",
    "\n",
    "# shhhhh..\n",
    "import warnings\n",
    "warnings.filterwarnings(\"ignore\")"
   ]
  },
  {
   "cell_type": "code",
   "execution_count": 2,
   "metadata": {},
   "outputs": [
    {
     "name": "stderr",
     "output_type": "stream",
     "text": [
      "Setting default log level to \"WARN\".\n",
      "To adjust logging level use sc.setLogLevel(newLevel). For SparkR, use setLogLevel(newLevel).\n"
     ]
    },
    {
     "name": "stdout",
     "output_type": "stream",
     "text": [
      "22/10/21 14:56:10 WARN NativeCodeLoader: Unable to load native-hadoop library for your platform... using builtin-java classes where applicable\n",
      "22/10/21 14:56:11 WARN Utils: Service 'SparkUI' could not bind on port 4040. Attempting port 4041.\n"
     ]
    }
   ],
   "source": [
    "#create enviroment\n",
    "spark = SparkSession.builder.getOrCreate()"
   ]
  },
  {
   "cell_type": "code",
   "execution_count": 3,
   "metadata": {},
   "outputs": [],
   "source": [
    "def get_db_url(db):\n",
    "    return (f'mysql+pymysql://{user}:{password}@{host}/{db}')"
   ]
  },
  {
   "cell_type": "markdown",
   "metadata": {},
   "source": [
    "#### This exercises use the cases, dept, and source tables from the 311_data on the Codeup MySQL server.\n",
    "\n",
    "- Read the case, department, and source data into their own spark dataframes."
   ]
  },
  {
   "cell_type": "code",
   "execution_count": 6,
   "metadata": {},
   "outputs": [],
   "source": [
    "cases_query = '''SELECT * FROM cases'''\n",
    "dept_query = '''SELECT * FROM dept'''\n",
    "source_query = '''SELECT * FROM source'''\n",
    "url = get_db_url(\"311_data\")"
   ]
  },
  {
   "cell_type": "code",
   "execution_count": 5,
   "metadata": {},
   "outputs": [],
   "source": [
    "cases_df = pd.read_sql(cases_query, url)"
   ]
  },
  {
   "cell_type": "code",
   "execution_count": 7,
   "metadata": {},
   "outputs": [],
   "source": [
    "dept_df = pd.read_sql(dept_query, url)"
   ]
  },
  {
   "cell_type": "code",
   "execution_count": 8,
   "metadata": {},
   "outputs": [],
   "source": [
    "source_df = pd.read_sql(source_query, url)"
   ]
  },
  {
   "cell_type": "code",
   "execution_count": 9,
   "metadata": {},
   "outputs": [
    {
     "name": "stdout",
     "output_type": "stream",
     "text": [
      "22/10/21 15:08:57 WARN TaskSetManager: Stage 0 contains a task of very large size (12594 KiB). The maximum recommended task size is 1000 KiB.\n"
     ]
    },
    {
     "name": "stderr",
     "output_type": "stream",
     "text": [
      "[Stage 0:>                                                          (0 + 1) / 1]\r"
     ]
    },
    {
     "name": "stdout",
     "output_type": "stream",
     "text": [
      "22/10/21 15:09:02 WARN PythonRunner: Detected deadlock while completing task 0.0 in stage 0 (TID 0): Attempting to kill Python Worker\n",
      "-RECORD 0------------------------------------\n",
      " case_id              | 1014127332           \n",
      " case_opened_date     | 1/1/18 0:42          \n",
      " case_closed_date     | 1/1/18 12:29         \n",
      " SLA_due_date         | 9/26/20 0:42         \n",
      " case_late            | NO                   \n",
      " num_days_late        | -998.5087616         \n",
      " case_closed          | YES                  \n",
      " dept_division        | Field Operations     \n",
      " service_request_type | Stray Animal         \n",
      " SLA_days             | 999.0                \n",
      " case_status          | Closed               \n",
      " source_id            | svcCRMLS             \n",
      " request_address      | 2315  EL PASO ST,... \n",
      " council_district     | 5                    \n",
      "-RECORD 1------------------------------------\n",
      " case_id              | 1014127333           \n",
      " case_opened_date     | 1/1/18 0:46          \n",
      " case_closed_date     | 1/3/18 8:11          \n",
      " SLA_due_date         | 1/5/18 8:30          \n",
      " case_late            | NO                   \n",
      " num_days_late        | -2.012604167         \n",
      " case_closed          | YES                  \n",
      " dept_division        | Storm Water          \n",
      " service_request_type | Removal Of Obstru... \n",
      " SLA_days             | 4.322222222          \n",
      " case_status          | Closed               \n",
      " source_id            | svcCRMSS             \n",
      " request_address      | 2215  GOLIAD RD, ... \n",
      " council_district     | 3                    \n",
      "-RECORD 2------------------------------------\n",
      " case_id              | 1014127334           \n",
      " case_opened_date     | 1/1/18 0:48          \n",
      " case_closed_date     | 1/2/18 7:57          \n",
      " SLA_due_date         | 1/5/18 8:30          \n",
      " case_late            | NO                   \n",
      " num_days_late        | -3.022337963         \n",
      " case_closed          | YES                  \n",
      " dept_division        | Storm Water          \n",
      " service_request_type | Removal Of Obstru... \n",
      " SLA_days             | 4.320729167          \n",
      " case_status          | Closed               \n",
      " source_id            | svcCRMSS             \n",
      " request_address      | 102  PALFREY ST W... \n",
      " council_district     | 3                    \n",
      "-RECORD 3------------------------------------\n",
      " case_id              | 1014127335           \n",
      " case_opened_date     | 1/1/18 1:29          \n",
      " case_closed_date     | 1/2/18 8:13          \n",
      " SLA_due_date         | 1/17/18 8:30         \n",
      " case_late            | NO                   \n",
      " num_days_late        | -15.01148148         \n",
      " case_closed          | YES                  \n",
      " dept_division        | Code Enforcement     \n",
      " service_request_type | Front Or Side Yar... \n",
      " SLA_days             | 16.29188657          \n",
      " case_status          | Closed               \n",
      " source_id            | svcCRMSS             \n",
      " request_address      | 114  LA GARDE ST,... \n",
      " council_district     | 3                    \n",
      "only showing top 4 rows\n",
      "\n"
     ]
    },
    {
     "name": "stderr",
     "output_type": "stream",
     "text": [
      "                                                                                \r"
     ]
    }
   ],
   "source": [
    "cases_df = spark.createDataFrame(cases_df)\n",
    "cases_df.show(4, vertical=True)"
   ]
  },
  {
   "cell_type": "code",
   "execution_count": 12,
   "metadata": {},
   "outputs": [
    {
     "name": "stdout",
     "output_type": "stream",
     "text": [
      "+--------------------+--------------------+----------------------+-------------------+\n",
      "|       dept_division|           dept_name|standardized_dept_name|dept_subject_to_SLA|\n",
      "+--------------------+--------------------+----------------------+-------------------+\n",
      "|     311 Call Center|    Customer Service|      Customer Service|                YES|\n",
      "|               Brush|Solid Waste Manag...|           Solid Waste|                YES|\n",
      "|     Clean and Green|Parks and Recreation|    Parks & Recreation|                YES|\n",
      "|Clean and Green N...|Parks and Recreation|    Parks & Recreation|                YES|\n",
      "+--------------------+--------------------+----------------------+-------------------+\n",
      "only showing top 4 rows\n",
      "\n"
     ]
    }
   ],
   "source": [
    "dept_df = spark.createDataFrame(dept_df)\n",
    "dept_df.show(4)"
   ]
  },
  {
   "cell_type": "code",
   "execution_count": 13,
   "metadata": {},
   "outputs": [
    {
     "name": "stdout",
     "output_type": "stream",
     "text": [
      "+-----+---------+----------------+\n",
      "|index|source_id| source_username|\n",
      "+-----+---------+----------------+\n",
      "|    0|   100137|Merlene Blodgett|\n",
      "|    1|   103582|     Carmen Cura|\n",
      "|    2|   106463| Richard Sanchez|\n",
      "|    3|   119403|  Betty De Hoyos|\n",
      "+-----+---------+----------------+\n",
      "only showing top 4 rows\n",
      "\n"
     ]
    }
   ],
   "source": [
    "source_df = spark.createDataFrame(source_df)\n",
    "source_df.show(4)"
   ]
  },
  {
   "cell_type": "markdown",
   "metadata": {},
   "source": [
    "Let's see how writing to the local disk works in spark:\n",
    "\n",
    "- Write the code necessary to store the source data in both csv and json format, store these as sources_csv and sources_json\n"
   ]
  },
  {
   "cell_type": "code",
   "execution_count": 16,
   "metadata": {},
   "outputs": [],
   "source": [
    "source_df.write.json('source.json')\n",
    "source_df.write.csv('source.csv', header=True)"
   ]
  },
  {
   "cell_type": "code",
   "execution_count": 17,
   "metadata": {},
   "outputs": [
    {
     "name": "stdout",
     "output_type": "stream",
     "text": [
      "+-----+---------+-----------------+\n",
      "|index|source_id|  source_username|\n",
      "+-----+---------+-----------------+\n",
      "|  121|  rb05270|       Rene Bomar|\n",
      "|  122|  rs16746|Ronald S. Sorrell|\n",
      "|  123|  ru26699|      Raul Ubides|\n",
      "|  124|  sg22264|  Steven Martinez|\n",
      "|  125|  sg26196|   Samantha Garza|\n",
      "+-----+---------+-----------------+\n",
      "only showing top 5 rows\n",
      "\n"
     ]
    }
   ],
   "source": [
    "spark.read.json('source.json').show(5)"
   ]
  },
  {
   "cell_type": "code",
   "execution_count": 18,
   "metadata": {},
   "outputs": [
    {
     "name": "stdout",
     "output_type": "stream",
     "text": [
      "+-----+---------+-----------------+\n",
      "|index|source_id|  source_username|\n",
      "+-----+---------+-----------------+\n",
      "|  121|  rb05270|       Rene Bomar|\n",
      "|  122|  rs16746|Ronald S. Sorrell|\n",
      "|  123|  ru26699|      Raul Ubides|\n",
      "|  124|  sg22264|  Steven Martinez|\n",
      "|  125|  sg26196|   Samantha Garza|\n",
      "+-----+---------+-----------------+\n",
      "only showing top 5 rows\n",
      "\n"
     ]
    }
   ],
   "source": [
    "spark.read.csv('source.csv', header=True).show(5)"
   ]
  },
  {
   "cell_type": "code",
   "execution_count": 14,
   "metadata": {},
   "outputs": [
    {
     "name": "stdout",
     "output_type": "stream",
     "text": [
      "22/10/21 15:19:34 WARN TaskSetManager: Stage 6 contains a task of very large size (12594 KiB). The maximum recommended task size is 1000 KiB.\n"
     ]
    },
    {
     "name": "stderr",
     "output_type": "stream",
     "text": [
      "                                                                                \r"
     ]
    },
    {
     "name": "stdout",
     "output_type": "stream",
     "text": [
      "+----------+----------------+----------------+-------------+---------+-------------------+-----------+--------------------+--------------------+--------+-----------+------------+--------------------+----------------+\n",
      "|   case_id|case_opened_date|case_closed_date| SLA_due_date|case_late|      num_days_late|case_closed|       dept_division|service_request_type|SLA_days|case_status|   source_id|     request_address|council_district|\n",
      "+----------+----------------+----------------+-------------+---------+-------------------+-----------+--------------------+--------------------+--------+-----------+------------+--------------------+----------------+\n",
      "|1013997231|    11/2/17 8:59|   11/6/17 14:50| 11/9/17 8:59|       NO|       -2.756319444|        YES|    Waste Collection|       Cart Delivery|     7.0|     Closed|      140987|8443  CORDOVA POI...|               4|\n",
      "|1013997232|    11/2/17 8:59|   3/16/18 11:39| 3/22/18 8:59|       NO|       -5.889421296|        YES|Traffic Engineeri...|Traffic Issue Inv...|   140.0|     Closed|     cc17850|BULVERDE RD and T...|              10|\n",
      "|1013997233|    11/2/17 9:00|   11/6/17 14:51| 11/9/17 9:00|       NO|       -2.756145833|        YES|    Waste Collection|       Cart Delivery|     7.0|     Closed|      140987|8443  CORDOVA POI...|               4|\n",
      "|1013997241|    11/2/17 9:00|   11/2/17 11:29| 1/18/18 9:00|       NO|       -76.89695602|        YES|    Code Enforcement|Junk Vehicle On P...|    77.0|     Closed|     mt13131|7147  OAKRIDGE DR...|               7|\n",
      "|1013997243|    11/2/17 9:01|  11/27/17 10:47| 1/18/18 9:01|       NO|       -51.92613426|        YES|    Code Enforcement|Overgrown Yard/Trash|    77.0|     Closed|CRM_Listener|303  CREATH PLACE...|               3|\n",
      "|1013997245|    11/2/17 9:01|    11/2/17 9:04|11/17/17 9:01|       NO|       -14.99821759|        YES|    Code Enforcement|        Bandit Signs|    15.0|     Closed|CRM_Listener|CURTIS ST and VAD...|               3|\n",
      "|1013997246|    11/2/17 9:02|   11/2/17 10:21|11/12/17 9:02|       NO|       -9.944837963|        YES|    Field Operations|Public Nuisance(O...|    10.0|     Closed|     jw10936|10558  BREEDS HIL...|               4|\n",
      "|1013997247|    11/2/17 9:02|  12/19/17 14:06| 3/22/18 9:02|       NO|       -92.78878472|        YES|    Code Enforcement|Minimum Housing-T...|   140.0|     Closed|     yc16753|143  36TH ST NW, ...|               5|\n",
      "|1013997248|    11/2/17 9:02|   3/16/18 11:35| 3/22/18 9:02|       NO|       -5.893518519|        YES|Traffic Engineeri...|Traffic Issue Inv...|   140.0|     Closed|     cc17850|BULVERDE RD and R...|              10|\n",
      "|1013997249|    11/2/17 9:02|    11/9/17 8:25|11/16/17 9:02|       NO|       -7.025578704|        YES| Food Establishments|  Food Borne Illness|    14.0|     Closed|     me05816|8403  BROADWAY, S...|               1|\n",
      "|1013997250|    11/2/17 9:02|   11/2/17 21:48|11/2/17 21:02|      YES|        0.031736111|        YES|    Field Operations|Trapped/Confined ...|     0.5|     Closed|     mp21218|3204  GERALD W, S...|               4|\n",
      "|1013997251|    11/2/17 9:03|   11/28/17 9:23| 1/18/18 9:03|       NO|       -50.98571759|        YES|    Code Enforcement|Junk Vehicle On P...|    77.0|     Closed|     mt13131|4715  BUENA VISTA...|               5|\n",
      "|1013997252|    11/2/17 9:03|    2/5/18 10:21| 1/18/18 9:03|      YES|        18.05425926|        YES|    Code Enforcement|Dumpsters: Mainte...|    77.0|     Closed|CRM_Listener|230  TRAVIS ST E,...|               1|\n",
      "|1013997255|    11/2/17 9:04|   11/9/17 17:01| 3/22/18 9:04|       NO|-132.66888889999998|        YES|    Code Enforcement|Minimum Housing-O...|   140.0|     Closed|     mt13131|4715  BUENA VISTA...|               5|\n",
      "|1013997257|    11/2/17 9:04|    11/4/17 9:43|11/2/17 21:04|      YES| 1.5269675930000002|        YES|    Field Operations|Trapped/Confined ...|     0.5|     Closed|     jw10936|10554  BREEDS HIL...|               4|\n",
      "|1013997258|    11/2/17 9:05|  11/20/17 11:09| 1/18/18 9:05|       NO|       -58.91346065|        YES|    Code Enforcement|Overgrown Yard/Trash|    77.0|     Closed|CRM_Listener|1224  FLORES ST N...|               1|\n",
      "|1013997260|    11/2/17 9:05|   12/1/17 10:02| 1/18/18 9:05|       NO|         -47.960625|        YES|    Code Enforcement|Overgrown Yard/Trash|    77.0|     Closed|     rs16746|4330  JARBET DR, ...|               2|\n",
      "|1013997262|    11/2/17 9:06|   11/2/17 10:23| 11/4/17 9:06|       NO|       -1.946412037|        YES|       Miscellaneous|   Dead Animal - Cat|     2.0|     Closed|      139344|7700  MILITARY DR...|               6|\n",
      "|1013997263|    11/2/17 9:06|   11/2/17 14:52| 11/3/17 9:06|       NO|-0.7596759259999999|        YES|         Storm Water|         Tree Fallen|     1.0|     Closed|      119555|5200  FREDSBG RD,...|               8|\n",
      "|1013997264|    11/2/17 9:06|    11/8/17 8:15| 3/22/18 9:06|       NO|-134.03505790000003|        YES|    Code Enforcement|Certificates of O...|   140.0|     Closed|CRM_Listener|2411  BROADWAY, S...|               1|\n",
      "+----------+----------------+----------------+-------------+---------+-------------------+-----------+--------------------+--------------------+--------+-----------+------------+--------------------+----------------+\n",
      "only showing top 20 rows\n",
      "\n"
     ]
    }
   ],
   "source": [
    "cases_df.write.csv('cases.csv', header=True)\n",
    "spark.read.csv('cases.csv', header=True).show()"
   ]
  },
  {
   "cell_type": "markdown",
   "metadata": {},
   "source": [
    "- Inspect your folder structure. What do you notice?\n"
   ]
  },
  {
   "cell_type": "markdown",
   "metadata": {},
   "source": [
    "Forgot to use this format, \n",
    "\n",
    ">(\n",
    ">    \n",
    ">    source_df.write.format('csv')\n",
    ">\n",
    ">    .mode('overwrite')\n",
    ">\n",
    ">    .option('header', 'True')\n",
    ">\n",
    ">    .save('data/source_csv')\n",
    ">\n",
    ">)\n",
    "\n",
    "so I don't know 'where' my files saved path wise.\n",
    "> But looking at them in their directory at the side of VSCode, they're broken into different parts, which helps run quicker with less processing power."
   ]
  },
  {
   "cell_type": "markdown",
   "metadata": {},
   "source": [
    "- Inspect the data in your dataframes. Are the data types appropriate? Write the code necessary to cast the values to the appropriate types."
   ]
  },
  {
   "cell_type": "code",
   "execution_count": null,
   "metadata": {},
   "outputs": [],
   "source": []
  }
 ],
 "metadata": {
  "kernelspec": {
   "display_name": "Python 3.9.12 ('base')",
   "language": "python",
   "name": "python3"
  },
  "language_info": {
   "codemirror_mode": {
    "name": "ipython",
    "version": 3
   },
   "file_extension": ".py",
   "mimetype": "text/x-python",
   "name": "python",
   "nbconvert_exporter": "python",
   "pygments_lexer": "ipython3",
   "version": "3.9.12"
  },
  "orig_nbformat": 4,
  "vscode": {
   "interpreter": {
    "hash": "3067ead486e059ec00ffe7555bdb889e6e264a24dc711bf108106cc7baee8d5d"
   }
  }
 },
 "nbformat": 4,
 "nbformat_minor": 2
}
