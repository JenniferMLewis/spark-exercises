{
 "cells": [
  {
   "cell_type": "markdown",
   "id": "ea3879fa",
   "metadata": {},
   "source": [
    "# Spark Data Wrangling"
   ]
  },
  {
   "cell_type": "code",
   "execution_count": 1,
   "id": "693fba94",
   "metadata": {},
   "outputs": [],
   "source": [
    "import pandas as pd\n",
    "import os\n",
    "\n",
    "# from sqlalchemy import *\n",
    "from pyspark.sql import SparkSession\n",
    "from pyspark.sql.functions import * \n",
    "\n",
    "from env import user, password, host\n",
    "\n",
    "# shhhhh..\n",
    "import warnings\n",
    "warnings.filterwarnings('ignore')"
   ]
  },
  {
   "cell_type": "code",
   "execution_count": 2,
   "id": "755438f6",
   "metadata": {},
   "outputs": [
    {
     "name": "stderr",
     "output_type": "stream",
     "text": [
      "Setting default log level to \"WARN\".\n",
      "To adjust logging level use sc.setLogLevel(newLevel). For SparkR, use setLogLevel(newLevel).\n"
     ]
    },
    {
     "name": "stdout",
     "output_type": "stream",
     "text": [
      "22/10/21 12:49:14 WARN NativeCodeLoader: Unable to load native-hadoop library for your platform... using builtin-java classes where applicable\n"
     ]
    }
   ],
   "source": [
    "#create enviroment\n",
    "spark = SparkSession.builder.getOrCreate()"
   ]
  },
  {
   "cell_type": "code",
   "execution_count": 3,
   "id": "872cab16",
   "metadata": {},
   "outputs": [],
   "source": [
    "def get_db_url(db):\n",
    "    return (f'mysql+pymysql://{user}:{password}@{host}/{db}')"
   ]
  },
  {
   "cell_type": "code",
   "execution_count": 4,
   "id": "8a729672",
   "metadata": {},
   "outputs": [],
   "source": [
    "def get_311_data():\n",
    "    filename = '311_data.csv'\n",
    "\n",
    "    if os.path.isfile(filename):\n",
    "        return pd.read_csv(filename)\n",
    "    else:\n",
    "        df = pd.read_sql(\"\"\"SELECT * FROM source\"\"\", get_db_url('telco_churn'))\n",
    "        df.to_csv(filename)\n",
    "        return df"
   ]
  },
  {
   "cell_type": "markdown",
   "id": "8f66c455",
   "metadata": {},
   "source": [
    "## Acquire"
   ]
  },
  {
   "cell_type": "code",
   "execution_count": 36,
   "id": "c53f4777",
   "metadata": {},
   "outputs": [],
   "source": [
    "cases_query = '''SELECT * FROM cases'''\n",
    "url = get_db_url(\"311_data\")"
   ]
  },
  {
   "cell_type": "code",
   "execution_count": 37,
   "id": "2e75cd9b",
   "metadata": {},
   "outputs": [],
   "source": [
    "cases_df = pd.read_sql(cases_query, url)"
   ]
  },
  {
   "cell_type": "code",
   "execution_count": 38,
   "id": "b21bc469",
   "metadata": {},
   "outputs": [
    {
     "name": "stdout",
     "output_type": "stream",
     "text": [
      "22/10/21 14:30:01 WARN TaskSetManager: Stage 4 contains a task of very large size (12594 KiB). The maximum recommended task size is 1000 KiB.\n"
     ]
    },
    {
     "name": "stderr",
     "output_type": "stream",
     "text": [
      "[Stage 4:>                                                          (0 + 1) / 1]\r"
     ]
    },
    {
     "name": "stdout",
     "output_type": "stream",
     "text": [
      "22/10/21 14:30:05 WARN PythonRunner: Detected deadlock while completing task 0.0 in stage 4 (TID 13): Attempting to kill Python Worker\n",
      "+----------+----------------+----------------+------------+---------+-------------+-----------+----------------+--------------------+-----------+-----------+---------+--------------------+----------------+\n",
      "|   case_id|case_opened_date|case_closed_date|SLA_due_date|case_late|num_days_late|case_closed|   dept_division|service_request_type|   SLA_days|case_status|source_id|     request_address|council_district|\n",
      "+----------+----------------+----------------+------------+---------+-------------+-----------+----------------+--------------------+-----------+-----------+---------+--------------------+----------------+\n",
      "|1014127332|     1/1/18 0:42|    1/1/18 12:29|9/26/20 0:42|       NO| -998.5087616|        YES|Field Operations|        Stray Animal|      999.0|     Closed| svcCRMLS|2315  EL PASO ST,...|               5|\n",
      "|1014127333|     1/1/18 0:46|     1/3/18 8:11| 1/5/18 8:30|       NO| -2.012604167|        YES|     Storm Water|Removal Of Obstru...|4.322222222|     Closed| svcCRMSS|2215  GOLIAD RD, ...|               3|\n",
      "|1014127334|     1/1/18 0:48|     1/2/18 7:57| 1/5/18 8:30|       NO| -3.022337963|        YES|     Storm Water|Removal Of Obstru...|4.320729167|     Closed| svcCRMSS|102  PALFREY ST W...|               3|\n",
      "|1014127335|     1/1/18 1:29|     1/2/18 8:13|1/17/18 8:30|       NO| -15.01148148|        YES|Code Enforcement|Front Or Side Yar...|16.29188657|     Closed| svcCRMSS|114  LA GARDE ST,...|               3|\n",
      "+----------+----------------+----------------+------------+---------+-------------+-----------+----------------+--------------------+-----------+-----------+---------+--------------------+----------------+\n",
      "only showing top 4 rows\n",
      "\n"
     ]
    },
    {
     "name": "stderr",
     "output_type": "stream",
     "text": [
      "                                                                                \r"
     ]
    }
   ],
   "source": [
    "cases_df = spark.createDataFrame(cases_df)\n",
    "cases_df.show(4)"
   ]
  },
  {
   "cell_type": "markdown",
   "id": "5ae2fc66",
   "metadata": {},
   "source": [
    "### load mpg data set from pydataset"
   ]
  },
  {
   "cell_type": "code",
   "execution_count": 9,
   "id": "9b7560bc",
   "metadata": {},
   "outputs": [],
   "source": [
    "from pydataset import data"
   ]
  },
  {
   "cell_type": "code",
   "execution_count": null,
   "id": "3e74c947",
   "metadata": {},
   "outputs": [],
   "source": []
  },
  {
   "cell_type": "markdown",
   "id": "b6b59db6",
   "metadata": {},
   "source": [
    "### write datafame to file"
   ]
  },
  {
   "cell_type": "markdown",
   "id": "30572adc",
   "metadata": {},
   "source": [
    "- `json`: for writing to a local json file(s)\n",
    "- `csv`: for writing to a local csv file(s)\n",
    "- `parquet`: Parquet is a very popular columnar storage format for Hadoop.\n",
    "- `jdbc`: for writing to a SQL database table"
   ]
  },
  {
   "cell_type": "markdown",
   "id": "74e8bbb4",
   "metadata": {},
   "source": [
    "#### write file to json"
   ]
  },
  {
   "cell_type": "code",
   "execution_count": 10,
   "id": "40f247a6",
   "metadata": {},
   "outputs": [],
   "source": [
    "#df.write.type\n"
   ]
  },
  {
   "cell_type": "code",
   "execution_count": null,
   "id": "d1e893c2",
   "metadata": {},
   "outputs": [],
   "source": []
  },
  {
   "cell_type": "markdown",
   "id": "bf08c75f",
   "metadata": {},
   "source": [
    "#### write dataframe to csv"
   ]
  },
  {
   "cell_type": "code",
   "execution_count": 11,
   "id": "21463422",
   "metadata": {},
   "outputs": [],
   "source": [
    "#df.write.format()\n"
   ]
  },
  {
   "cell_type": "code",
   "execution_count": null,
   "id": "cf82b8ed",
   "metadata": {},
   "outputs": [],
   "source": []
  },
  {
   "cell_type": "code",
   "execution_count": null,
   "id": "27218f85",
   "metadata": {},
   "outputs": [],
   "source": []
  },
  {
   "cell_type": "markdown",
   "id": "6b2b6a58",
   "metadata": {},
   "source": [
    "### read files\n",
    "- spark.read.[type]"
   ]
  },
  {
   "cell_type": "markdown",
   "id": "c057159b",
   "metadata": {},
   "source": [
    "#### read json"
   ]
  },
  {
   "cell_type": "code",
   "execution_count": null,
   "id": "35dc9441",
   "metadata": {},
   "outputs": [],
   "source": []
  },
  {
   "cell_type": "code",
   "execution_count": null,
   "id": "b1057440",
   "metadata": {},
   "outputs": [],
   "source": []
  },
  {
   "cell_type": "markdown",
   "id": "e380e06a",
   "metadata": {},
   "source": [
    "#### read csv"
   ]
  },
  {
   "cell_type": "code",
   "execution_count": null,
   "id": "e0260ab2",
   "metadata": {},
   "outputs": [],
   "source": []
  },
  {
   "cell_type": "code",
   "execution_count": null,
   "id": "8b87f323",
   "metadata": {},
   "outputs": [],
   "source": []
  },
  {
   "cell_type": "markdown",
   "id": "c839b2a6",
   "metadata": {},
   "source": [
    "### load source from 311_data in sql"
   ]
  },
  {
   "cell_type": "code",
   "execution_count": 12,
   "id": "d3abd192",
   "metadata": {},
   "outputs": [],
   "source": [
    "#sql query\n"
   ]
  },
  {
   "cell_type": "code",
   "execution_count": 13,
   "id": "017046b4",
   "metadata": {},
   "outputs": [],
   "source": [
    "#make pandas df\n"
   ]
  },
  {
   "cell_type": "code",
   "execution_count": 14,
   "id": "0e439361",
   "metadata": {},
   "outputs": [],
   "source": [
    "#create spark df\n"
   ]
  },
  {
   "cell_type": "code",
   "execution_count": null,
   "id": "23c097d7",
   "metadata": {},
   "outputs": [],
   "source": []
  },
  {
   "cell_type": "markdown",
   "id": "a98562d5",
   "metadata": {},
   "source": [
    "### data schema"
   ]
  },
  {
   "cell_type": "code",
   "execution_count": null,
   "id": "4f54e6fb",
   "metadata": {},
   "outputs": [],
   "source": []
  },
  {
   "cell_type": "code",
   "execution_count": 15,
   "id": "5d491717",
   "metadata": {},
   "outputs": [],
   "source": [
    "# from pyspark.sql.types import StructType, StructField, StringType"
   ]
  },
  {
   "cell_type": "code",
   "execution_count": 16,
   "id": "73739506",
   "metadata": {},
   "outputs": [],
   "source": [
    "#use structype to build a list of the structfield with the columns assocaited schema\n"
   ]
  },
  {
   "cell_type": "markdown",
   "id": "5769739f",
   "metadata": {},
   "source": [
    "### load cases from 311_data from sql"
   ]
  },
  {
   "cell_type": "code",
   "execution_count": 17,
   "id": "54618aed",
   "metadata": {},
   "outputs": [],
   "source": [
    "#sql query\n"
   ]
  },
  {
   "cell_type": "code",
   "execution_count": 18,
   "id": "77ee891f",
   "metadata": {},
   "outputs": [],
   "source": [
    "#pandas df\n"
   ]
  },
  {
   "cell_type": "code",
   "execution_count": 19,
   "id": "cbb9b4e0",
   "metadata": {},
   "outputs": [],
   "source": [
    "#spark df\n"
   ]
  },
  {
   "cell_type": "code",
   "execution_count": null,
   "id": "6138a0da",
   "metadata": {},
   "outputs": [],
   "source": []
  },
  {
   "cell_type": "code",
   "execution_count": null,
   "id": "91ebdc6c",
   "metadata": {},
   "outputs": [],
   "source": []
  },
  {
   "cell_type": "code",
   "execution_count": null,
   "id": "b871dfc1",
   "metadata": {},
   "outputs": [],
   "source": []
  },
  {
   "cell_type": "markdown",
   "id": "9df26f2f",
   "metadata": {},
   "source": [
    "## Prepare"
   ]
  },
  {
   "cell_type": "markdown",
   "id": "44c3f40e",
   "metadata": {},
   "source": [
    "- rename columns\n",
    "- correct datatypes\n",
    "- data transformation\n",
    "- make new features\n",
    "- join tables"
   ]
  },
  {
   "cell_type": "markdown",
   "id": "a0aec4fe",
   "metadata": {},
   "source": [
    "### rename columns"
   ]
  },
  {
   "cell_type": "code",
   "execution_count": null,
   "id": "fd876bd5",
   "metadata": {},
   "outputs": [],
   "source": []
  },
  {
   "cell_type": "markdown",
   "id": "0a5929b1",
   "metadata": {},
   "source": [
    "#### change SLA_due_date to case_due_date"
   ]
  },
  {
   "cell_type": "code",
   "execution_count": null,
   "id": "f892e47c",
   "metadata": {},
   "outputs": [],
   "source": []
  },
  {
   "cell_type": "code",
   "execution_count": null,
   "id": "4661935c",
   "metadata": {},
   "outputs": [],
   "source": []
  },
  {
   "cell_type": "markdown",
   "id": "a98297cf",
   "metadata": {},
   "source": [
    "### correct datatypes"
   ]
  },
  {
   "cell_type": "code",
   "execution_count": null,
   "id": "21141fd8",
   "metadata": {},
   "outputs": [],
   "source": []
  },
  {
   "cell_type": "code",
   "execution_count": null,
   "id": "1a0f5ae8",
   "metadata": {},
   "outputs": [],
   "source": []
  },
  {
   "cell_type": "markdown",
   "id": "50584b86",
   "metadata": {},
   "source": [
    "#### change close_closed and case_late columns into boolean values"
   ]
  },
  {
   "cell_type": "code",
   "execution_count": null,
   "id": "33b25ca5",
   "metadata": {},
   "outputs": [],
   "source": []
  },
  {
   "cell_type": "code",
   "execution_count": 20,
   "id": "1d0ef91b",
   "metadata": {},
   "outputs": [],
   "source": [
    "#use condition to make true and false\n"
   ]
  },
  {
   "cell_type": "code",
   "execution_count": null,
   "id": "9e576a60",
   "metadata": {},
   "outputs": [],
   "source": []
  },
  {
   "cell_type": "markdown",
   "id": "3c65df82",
   "metadata": {},
   "source": [
    "#### change council_district datatype to string"
   ]
  },
  {
   "cell_type": "code",
   "execution_count": null,
   "id": "50cdd074",
   "metadata": {},
   "outputs": [],
   "source": []
  },
  {
   "cell_type": "code",
   "execution_count": 21,
   "id": "00df57f9",
   "metadata": {},
   "outputs": [],
   "source": [
    "#use .cast()\n"
   ]
  },
  {
   "cell_type": "code",
   "execution_count": null,
   "id": "90dc6b6b",
   "metadata": {},
   "outputs": [],
   "source": []
  },
  {
   "cell_type": "markdown",
   "id": "e7d21ecb",
   "metadata": {},
   "source": [
    "#### change dates to datetype"
   ]
  },
  {
   "cell_type": "code",
   "execution_count": null,
   "id": "2f03aca2",
   "metadata": {},
   "outputs": [],
   "source": []
  },
  {
   "cell_type": "markdown",
   "id": "91d94432",
   "metadata": {},
   "source": [
    "format date strings: https://docs.oracle.com/javase/10/docs/api/java/time/format/DateTimeFormatter.html"
   ]
  },
  {
   "cell_type": "code",
   "execution_count": null,
   "id": "f7ba0c03",
   "metadata": {},
   "outputs": [],
   "source": []
  },
  {
   "cell_type": "code",
   "execution_count": 22,
   "id": "0ad81589",
   "metadata": {},
   "outputs": [],
   "source": [
    "#use to_timestamp\n"
   ]
  },
  {
   "cell_type": "code",
   "execution_count": null,
   "id": "2af08f56",
   "metadata": {},
   "outputs": [],
   "source": []
  },
  {
   "cell_type": "markdown",
   "id": "4cbca0fd",
   "metadata": {},
   "source": [
    "### data transformation"
   ]
  },
  {
   "cell_type": "markdown",
   "id": "86cd01a0",
   "metadata": {},
   "source": [
    "#### normalize address\n",
    "- `lower`: lowercase everything\n",
    "- `trim`: remove whitespace on the edges "
   ]
  },
  {
   "cell_type": "code",
   "execution_count": null,
   "id": "c0140b09",
   "metadata": {},
   "outputs": [],
   "source": []
  },
  {
   "cell_type": "code",
   "execution_count": null,
   "id": "7f8d5914",
   "metadata": {},
   "outputs": [],
   "source": []
  },
  {
   "cell_type": "code",
   "execution_count": null,
   "id": "fc7b460d",
   "metadata": {},
   "outputs": [],
   "source": []
  },
  {
   "cell_type": "markdown",
   "id": "d56bd761",
   "metadata": {},
   "source": [
    "#### change num_days_late to num_weeks_late"
   ]
  },
  {
   "cell_type": "code",
   "execution_count": null,
   "id": "80600520",
   "metadata": {},
   "outputs": [],
   "source": []
  },
  {
   "cell_type": "code",
   "execution_count": null,
   "id": "9488dc43",
   "metadata": {},
   "outputs": [],
   "source": []
  },
  {
   "cell_type": "code",
   "execution_count": null,
   "id": "88d989cf",
   "metadata": {},
   "outputs": [],
   "source": []
  },
  {
   "cell_type": "markdown",
   "id": "201bc28f",
   "metadata": {},
   "source": [
    "#### change council_district to int and pad with 00s"
   ]
  },
  {
   "cell_type": "code",
   "execution_count": null,
   "id": "09e2aff0",
   "metadata": {},
   "outputs": [],
   "source": []
  },
  {
   "cell_type": "code",
   "execution_count": 23,
   "id": "5a37e22c",
   "metadata": {},
   "outputs": [],
   "source": [
    "# '%03d' means at least 3 digits, pad with 0s\n"
   ]
  },
  {
   "cell_type": "code",
   "execution_count": null,
   "id": "fca73a76",
   "metadata": {},
   "outputs": [],
   "source": []
  },
  {
   "cell_type": "markdown",
   "id": "37ecc429",
   "metadata": {},
   "source": [
    "### new features"
   ]
  },
  {
   "cell_type": "code",
   "execution_count": null,
   "id": "91b1028a",
   "metadata": {},
   "outputs": [],
   "source": []
  },
  {
   "cell_type": "markdown",
   "id": "7059b9f5",
   "metadata": {},
   "source": [
    "#### create zip code column"
   ]
  },
  {
   "cell_type": "code",
   "execution_count": null,
   "id": "6754c27b",
   "metadata": {},
   "outputs": [],
   "source": []
  },
  {
   "cell_type": "code",
   "execution_count": null,
   "id": "45e8d0f2",
   "metadata": {},
   "outputs": [],
   "source": []
  },
  {
   "cell_type": "code",
   "execution_count": null,
   "id": "7a08c655",
   "metadata": {},
   "outputs": [],
   "source": []
  },
  {
   "cell_type": "markdown",
   "id": "e16b302f",
   "metadata": {},
   "source": [
    "#### create case_lifetime column"
   ]
  },
  {
   "cell_type": "markdown",
   "id": "29d43cc6",
   "metadata": {},
   "source": [
    "- case_age: how long since the case first opened\n",
    "- days_to_close: the number of days between days opened and days closed\n",
    "- case_lifetime: if the case is open, how long since the case opened, if the case is closed, the number of days to close\n"
   ]
  },
  {
   "cell_type": "code",
   "execution_count": null,
   "id": "5033c4f0",
   "metadata": {},
   "outputs": [],
   "source": []
  },
  {
   "cell_type": "code",
   "execution_count": 24,
   "id": "87f3203e",
   "metadata": {},
   "outputs": [],
   "source": [
    "#use datediff() to find the difference between two dates\n"
   ]
  },
  {
   "cell_type": "code",
   "execution_count": null,
   "id": "21cbfb03",
   "metadata": {},
   "outputs": [],
   "source": []
  },
  {
   "cell_type": "code",
   "execution_count": 25,
   "id": "0730ed15",
   "metadata": {},
   "outputs": [],
   "source": [
    "#create days_to_close\n"
   ]
  },
  {
   "cell_type": "code",
   "execution_count": 26,
   "id": "adbeed81",
   "metadata": {},
   "outputs": [],
   "source": [
    "#look at new columns for cases that were closed\n"
   ]
  },
  {
   "cell_type": "code",
   "execution_count": 27,
   "id": "4e387c9d",
   "metadata": {},
   "outputs": [],
   "source": [
    "#look at new columns for cases that were NOT closed\n"
   ]
  },
  {
   "cell_type": "code",
   "execution_count": 28,
   "id": "732677de",
   "metadata": {},
   "outputs": [],
   "source": [
    "#create case_lifetime column\n"
   ]
  },
  {
   "cell_type": "code",
   "execution_count": null,
   "id": "7b6bde5f",
   "metadata": {},
   "outputs": [],
   "source": []
  },
  {
   "cell_type": "code",
   "execution_count": 29,
   "id": "0eb4f8ea",
   "metadata": {},
   "outputs": [],
   "source": [
    "#drop unnecessary columns\n"
   ]
  },
  {
   "cell_type": "code",
   "execution_count": null,
   "id": "963206c4",
   "metadata": {},
   "outputs": [],
   "source": []
  },
  {
   "cell_type": "markdown",
   "id": "638518f0",
   "metadata": {},
   "source": [
    "### join the dept table from sql to our current df"
   ]
  },
  {
   "cell_type": "code",
   "execution_count": null,
   "id": "1261720d",
   "metadata": {},
   "outputs": [],
   "source": []
  },
  {
   "cell_type": "code",
   "execution_count": 30,
   "id": "f1de22ad",
   "metadata": {},
   "outputs": [],
   "source": [
    "#get dept table from sql\n"
   ]
  },
  {
   "cell_type": "code",
   "execution_count": null,
   "id": "8c74ccea",
   "metadata": {},
   "outputs": [],
   "source": []
  },
  {
   "cell_type": "code",
   "execution_count": null,
   "id": "d8c5e38b",
   "metadata": {},
   "outputs": [],
   "source": []
  },
  {
   "cell_type": "code",
   "execution_count": 31,
   "id": "adf7e1b3",
   "metadata": {},
   "outputs": [],
   "source": [
    "#join tables\n"
   ]
  },
  {
   "cell_type": "code",
   "execution_count": null,
   "id": "e801efb0",
   "metadata": {},
   "outputs": [],
   "source": []
  },
  {
   "cell_type": "code",
   "execution_count": null,
   "id": "2367b780",
   "metadata": {},
   "outputs": [],
   "source": []
  },
  {
   "cell_type": "markdown",
   "id": "f904326a",
   "metadata": {},
   "source": [
    "### train, validate, test split"
   ]
  },
  {
   "cell_type": "markdown",
   "id": "c56246b8",
   "metadata": {},
   "source": [
    "- `.randomSplit` to split df"
   ]
  },
  {
   "cell_type": "code",
   "execution_count": null,
   "id": "a4ad668e",
   "metadata": {},
   "outputs": [],
   "source": []
  },
  {
   "cell_type": "code",
   "execution_count": null,
   "id": "45031a22",
   "metadata": {},
   "outputs": [],
   "source": []
  },
  {
   "cell_type": "code",
   "execution_count": null,
   "id": "8eb9718c",
   "metadata": {},
   "outputs": [],
   "source": []
  }
 ],
 "metadata": {
  "kernelspec": {
   "display_name": "Python 3.9.12 ('base')",
   "language": "python",
   "name": "python3"
  },
  "language_info": {
   "codemirror_mode": {
    "name": "ipython",
    "version": 3
   },
   "file_extension": ".py",
   "mimetype": "text/x-python",
   "name": "python",
   "nbconvert_exporter": "python",
   "pygments_lexer": "ipython3",
   "version": "3.9.12"
  },
  "vscode": {
   "interpreter": {
    "hash": "3067ead486e059ec00ffe7555bdb889e6e264a24dc711bf108106cc7baee8d5d"
   }
  }
 },
 "nbformat": 4,
 "nbformat_minor": 5
}
