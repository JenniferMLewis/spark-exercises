{
 "cells": [
  {
   "cell_type": "code",
   "execution_count": 1,
   "metadata": {},
   "outputs": [
    {
     "name": "stderr",
     "output_type": "stream",
     "text": [
      "Setting default log level to \"WARN\".\n",
      "To adjust logging level use sc.setLogLevel(newLevel). For SparkR, use setLogLevel(newLevel).\n"
     ]
    },
    {
     "name": "stdout",
     "output_type": "stream",
     "text": [
      "22/10/21 09:15:11 WARN NativeCodeLoader: Unable to load native-hadoop library for your platform... using builtin-java classes where applicable\n"
     ]
    }
   ],
   "source": [
    "# basic DS imports\n",
    "import pandas as pd\n",
    "import numpy as np\n",
    "from pydataset import data\n",
    "\n",
    "# Spark for Python Imports\n",
    "import pyspark\n",
    "import pyspark.sql.functions as F\n",
    "\n",
    "# Shhhhhhhhh....\n",
    "import warnings\n",
    "warnings.filterwarnings('ignore')\n",
    "\n",
    "spark = pyspark.sql.SparkSession.builder.getOrCreate()"
   ]
  },
  {
   "cell_type": "markdown",
   "metadata": {},
   "source": [
    "#### Create a spark data frame that contains your favorite programming languages.\n",
    "\n",
    "- The name of the column should be language\n",
    "- View the schema of the dataframe\n",
    "- Output the shape of the dataframe\n",
    "- Show the first 5 records in the dataframe\n"
   ]
  },
  {
   "cell_type": "code",
   "execution_count": 2,
   "metadata": {},
   "outputs": [],
   "source": [
    "lang = ['Python', 'SQL', 'PHP', 'CSS', 'JavaScript', 'R', 'Scala']"
   ]
  },
  {
   "cell_type": "code",
   "execution_count": 3,
   "metadata": {},
   "outputs": [
    {
     "data": {
      "text/html": [
       "<div>\n",
       "<style scoped>\n",
       "    .dataframe tbody tr th:only-of-type {\n",
       "        vertical-align: middle;\n",
       "    }\n",
       "\n",
       "    .dataframe tbody tr th {\n",
       "        vertical-align: top;\n",
       "    }\n",
       "\n",
       "    .dataframe thead th {\n",
       "        text-align: right;\n",
       "    }\n",
       "</style>\n",
       "<table border=\"1\" class=\"dataframe\">\n",
       "  <thead>\n",
       "    <tr style=\"text-align: right;\">\n",
       "      <th></th>\n",
       "      <th>language</th>\n",
       "    </tr>\n",
       "  </thead>\n",
       "  <tbody>\n",
       "    <tr>\n",
       "      <th>0</th>\n",
       "      <td>Python</td>\n",
       "    </tr>\n",
       "    <tr>\n",
       "      <th>1</th>\n",
       "      <td>SQL</td>\n",
       "    </tr>\n",
       "    <tr>\n",
       "      <th>2</th>\n",
       "      <td>PHP</td>\n",
       "    </tr>\n",
       "    <tr>\n",
       "      <th>3</th>\n",
       "      <td>CSS</td>\n",
       "    </tr>\n",
       "    <tr>\n",
       "      <th>4</th>\n",
       "      <td>JavaScript</td>\n",
       "    </tr>\n",
       "  </tbody>\n",
       "</table>\n",
       "</div>"
      ],
      "text/plain": [
       "     language\n",
       "0      Python\n",
       "1         SQL\n",
       "2         PHP\n",
       "3         CSS\n",
       "4  JavaScript"
      ]
     },
     "execution_count": 3,
     "metadata": {},
     "output_type": "execute_result"
    }
   ],
   "source": [
    "languages = pd.Series(lang)\n",
    "df = pd.DataFrame(languages)\n",
    "df.head()\n",
    "df = df.rename(columns= {0: \"language\"})\n",
    "df.head()"
   ]
  },
  {
   "cell_type": "code",
   "execution_count": 4,
   "metadata": {},
   "outputs": [
    {
     "data": {
      "text/plain": [
       "pyspark.sql.dataframe.DataFrame"
      ]
     },
     "execution_count": 4,
     "metadata": {},
     "output_type": "execute_result"
    }
   ],
   "source": [
    "df = spark.createDataFrame(df)\n",
    "type(df)"
   ]
  },
  {
   "cell_type": "code",
   "execution_count": 5,
   "metadata": {},
   "outputs": [
    {
     "name": "stdout",
     "output_type": "stream",
     "text": [
      "root\n",
      " |-- language: string (nullable = true)\n",
      "\n"
     ]
    }
   ],
   "source": [
    "df.printSchema()"
   ]
  },
  {
   "cell_type": "code",
   "execution_count": 6,
   "metadata": {},
   "outputs": [
    {
     "name": "stderr",
     "output_type": "stream",
     "text": [
      "                                                                                \r"
     ]
    },
    {
     "data": {
      "text/plain": [
       "(7, 1)"
      ]
     },
     "execution_count": 6,
     "metadata": {},
     "output_type": "execute_result"
    }
   ],
   "source": [
    "# Janky way to find the shape??\n",
    "(df.count(), len(df.columns))"
   ]
  },
  {
   "cell_type": "code",
   "execution_count": 7,
   "metadata": {},
   "outputs": [
    {
     "name": "stdout",
     "output_type": "stream",
     "text": [
      "+----------+\n",
      "|  language|\n",
      "+----------+\n",
      "|    Python|\n",
      "|       SQL|\n",
      "|       PHP|\n",
      "|       CSS|\n",
      "|JavaScript|\n",
      "+----------+\n",
      "only showing top 5 rows\n",
      "\n"
     ]
    }
   ],
   "source": [
    "df.show(5)"
   ]
  },
  {
   "cell_type": "markdown",
   "metadata": {},
   "source": [
    "\n",
    "#### Load the mpg dataset as a spark dataframe.\n",
    "\n",
    "- Create 1 column of output that contains a message like the one below:\n",
    "\n",
    "\n",
    "> The 1999 audi a4 has a 4 cylinder engine.\n",
    "> For each vehicle.\n",
    "\n",
    "- Transform the trans column so that it only contains either manual or auto.\n"
   ]
  },
  {
   "cell_type": "code",
   "execution_count": 8,
   "metadata": {},
   "outputs": [
    {
     "name": "stdout",
     "output_type": "stream",
     "text": [
      "+------------+-----+-----+----+---+----------+---+---+---+---+-------+\n",
      "|manufacturer|model|displ|year|cyl|     trans|drv|cty|hwy| fl|  class|\n",
      "+------------+-----+-----+----+---+----------+---+---+---+---+-------+\n",
      "|        audi|   a4|  1.8|1999|  4|  auto(l5)|  f| 18| 29|  p|compact|\n",
      "|        audi|   a4|  1.8|1999|  4|manual(m5)|  f| 21| 29|  p|compact|\n",
      "|        audi|   a4|  2.0|2008|  4|manual(m6)|  f| 20| 31|  p|compact|\n",
      "|        audi|   a4|  2.0|2008|  4|  auto(av)|  f| 21| 30|  p|compact|\n",
      "|        audi|   a4|  2.8|1999|  6|  auto(l5)|  f| 16| 26|  p|compact|\n",
      "+------------+-----+-----+----+---+----------+---+---+---+---+-------+\n",
      "only showing top 5 rows\n",
      "\n"
     ]
    }
   ],
   "source": [
    "mpg = spark.createDataFrame(data('mpg'))\n",
    "mpg.show(5)"
   ]
  },
  {
   "cell_type": "code",
   "execution_count": 9,
   "metadata": {},
   "outputs": [
    {
     "name": "stdout",
     "output_type": "stream",
     "text": [
      "+--------------------------------------------------------------+\n",
      "|cyl_info                                                      |\n",
      "+--------------------------------------------------------------+\n",
      "|The 1999 audi a4 has a 6 cylinder engine.                     |\n",
      "|The 1999 audi a4 quattro has a 6 cylinder engine.             |\n",
      "|The 1999 audi a4 quattro has a 6 cylinder engine.             |\n",
      "|The 1999 audi a4 has a 4 cylinder engine.                     |\n",
      "|The 1999 audi a4 quattro has a 4 cylinder engine.             |\n",
      "|The 1999 audi a4 has a 4 cylinder engine.                     |\n",
      "|The 1999 audi a4 quattro has a 4 cylinder engine.             |\n",
      "|The 1999 audi a4 has a 6 cylinder engine.                     |\n",
      "|The 1999 audi a6 quattro has a 6 cylinder engine.             |\n",
      "|The 1999 chevrolet corvette has a 8 cylinder engine.          |\n",
      "|The 1999 chevrolet c1500 suburban 2wd has a 8 cylinder engine.|\n",
      "|The 1999 chevrolet malibu has a 6 cylinder engine.            |\n",
      "|The 1999 chevrolet malibu has a 4 cylinder engine.            |\n",
      "|The 1999 chevrolet k1500 tahoe 4wd has a 8 cylinder engine.   |\n",
      "|The 1999 chevrolet k1500 tahoe 4wd has a 8 cylinder engine.   |\n",
      "|The 1999 chevrolet corvette has a 8 cylinder engine.          |\n",
      "|The 1999 dodge caravan 2wd has a 6 cylinder engine.           |\n",
      "|The 1999 dodge caravan 2wd has a 6 cylinder engine.           |\n",
      "|The 1999 dodge dakota pickup 4wd has a 6 cylinder engine.     |\n",
      "|The 1999 dodge dakota pickup 4wd has a 6 cylinder engine.     |\n",
      "+--------------------------------------------------------------+\n",
      "only showing top 20 rows\n",
      "\n"
     ]
    }
   ],
   "source": [
    "mpg.select(F.concat(F.lit(\"The \"), mpg.year,F.lit(\" \"), mpg.manufacturer, F.lit(\" \"), mpg.model, F.lit(\" has a \"), mpg.cyl, F.lit(\" cylinder engine.\")).alias('cyl_info')).sort(F.col('year'), F.col('manufacturer')).show(truncate=False)"
   ]
  },
  {
   "cell_type": "code",
   "execution_count": 10,
   "metadata": {},
   "outputs": [
    {
     "name": "stdout",
     "output_type": "stream",
     "text": [
      "+----------+\n",
      "|     trans|\n",
      "+----------+\n",
      "|  auto(l5)|\n",
      "|manual(m5)|\n",
      "|manual(m6)|\n",
      "|  auto(av)|\n",
      "|  auto(l5)|\n",
      "+----------+\n",
      "only showing top 5 rows\n",
      "\n"
     ]
    }
   ],
   "source": [
    "mpg.select(mpg.trans).show(5)"
   ]
  },
  {
   "cell_type": "code",
   "execution_count": 11,
   "metadata": {},
   "outputs": [
    {
     "name": "stdout",
     "output_type": "stream",
     "text": [
      "+----------+------------+\n",
      "|     trans|transmission|\n",
      "+----------+------------+\n",
      "|  auto(l5)|        auto|\n",
      "|manual(m5)|      manual|\n",
      "|manual(m6)|      manual|\n",
      "|  auto(av)|        auto|\n",
      "|  auto(l5)|        auto|\n",
      "|manual(m5)|      manual|\n",
      "|  auto(av)|        auto|\n",
      "|manual(m5)|      manual|\n",
      "|  auto(l5)|        auto|\n",
      "|manual(m6)|      manual|\n",
      "|  auto(s6)|        auto|\n",
      "|  auto(l5)|        auto|\n",
      "|manual(m5)|      manual|\n",
      "|  auto(s6)|        auto|\n",
      "|manual(m6)|      manual|\n",
      "|  auto(l5)|        auto|\n",
      "|  auto(s6)|        auto|\n",
      "|  auto(s6)|        auto|\n",
      "|  auto(l4)|        auto|\n",
      "|  auto(l4)|        auto|\n",
      "+----------+------------+\n",
      "only showing top 20 rows\n",
      "\n"
     ]
    }
   ],
   "source": [
    "mpg.select('trans', F.regexp_extract('trans',r\"^(\\w+)\\b\\W\", 1).alias('transmission')).show()"
   ]
  },
  {
   "cell_type": "markdown",
   "metadata": {},
   "source": [
    "\n",
    "#### Load the tips dataset as a spark dataframe.\n",
    "\n",
    "- What percentage of observations are smokers?\n",
    "- Create a column that contains the tip percentage\n",
    "- Calculate the average tip percentage for each combination of sex and smoker.\n"
   ]
  },
  {
   "cell_type": "code",
   "execution_count": 12,
   "metadata": {},
   "outputs": [
    {
     "name": "stdout",
     "output_type": "stream",
     "text": [
      "+----------+----+------+------+---+------+----+\n",
      "|total_bill| tip|   sex|smoker|day|  time|size|\n",
      "+----------+----+------+------+---+------+----+\n",
      "|     16.99|1.01|Female|    No|Sun|Dinner|   2|\n",
      "|     10.34|1.66|  Male|    No|Sun|Dinner|   3|\n",
      "|     21.01| 3.5|  Male|    No|Sun|Dinner|   3|\n",
      "|     23.68|3.31|  Male|    No|Sun|Dinner|   2|\n",
      "|     24.59|3.61|Female|    No|Sun|Dinner|   4|\n",
      "+----------+----+------+------+---+------+----+\n",
      "only showing top 5 rows\n",
      "\n"
     ]
    }
   ],
   "source": [
    "tips = spark.createDataFrame(data('tips'))\n",
    "tips.show(5)"
   ]
  },
  {
   "cell_type": "code",
   "execution_count": 13,
   "metadata": {},
   "outputs": [
    {
     "name": "stdout",
     "output_type": "stream",
     "text": [
      "percentage of smokers : 0.38\n"
     ]
    }
   ],
   "source": [
    "print(f\"percentage of smokers : {round(tips.where(tips['smoker']=='Yes').count()/tips.count(),2)}\")"
   ]
  },
  {
   "cell_type": "code",
   "execution_count": 14,
   "metadata": {},
   "outputs": [
    {
     "name": "stdout",
     "output_type": "stream",
     "text": [
      "+----------+----+------+------+---+------+----+--------------+\n",
      "|total_bill| tip|   sex|smoker|day|  time|size|tip_percentage|\n",
      "+----------+----+------+------+---+------+----+--------------+\n",
      "|     16.99|1.01|Female|    No|Sun|Dinner|   2|           6.3|\n",
      "|     10.34|1.66|  Male|    No|Sun|Dinner|   3|          19.1|\n",
      "|     21.01| 3.5|  Male|    No|Sun|Dinner|   3|          20.0|\n",
      "|     23.68|3.31|  Male|    No|Sun|Dinner|   2|          16.2|\n",
      "|     24.59|3.61|Female|    No|Sun|Dinner|   4|          17.2|\n",
      "|     25.29|4.71|  Male|    No|Sun|Dinner|   4|          22.9|\n",
      "|      8.77| 2.0|  Male|    No|Sun|Dinner|   2|          29.5|\n",
      "|     26.88|3.12|  Male|    No|Sun|Dinner|   4|          13.1|\n",
      "|     15.04|1.96|  Male|    No|Sun|Dinner|   2|          15.0|\n",
      "|     14.78|3.23|  Male|    No|Sun|Dinner|   2|          28.0|\n",
      "|     10.27|1.71|  Male|    No|Sun|Dinner|   2|          20.0|\n",
      "|     35.26| 5.0|Female|    No|Sun|Dinner|   4|          16.5|\n",
      "|     15.42|1.57|  Male|    No|Sun|Dinner|   2|          11.3|\n",
      "|     18.43| 3.0|  Male|    No|Sun|Dinner|   4|          19.4|\n",
      "|     14.83|3.02|Female|    No|Sun|Dinner|   2|          25.6|\n",
      "|     21.58|3.92|  Male|    No|Sun|Dinner|   2|          22.2|\n",
      "|     10.33|1.67|Female|    No|Sun|Dinner|   3|          19.3|\n",
      "|     16.29|3.71|  Male|    No|Sun|Dinner|   3|          29.5|\n",
      "|     16.97| 3.5|Female|    No|Sun|Dinner|   3|          26.0|\n",
      "|     20.65|3.35|  Male|    No|Sat|Dinner|   3|          19.4|\n",
      "+----------+----+------+------+---+------+----+--------------+\n",
      "only showing top 20 rows\n",
      "\n"
     ]
    }
   ],
   "source": [
    "tips = tips.withColumn('tip_percentage', F.expr('ROUND((tip/(total_bill - tip) * 100),1)'))\n",
    "tips.show()"
   ]
  },
  {
   "cell_type": "code",
   "execution_count": 15,
   "metadata": {},
   "outputs": [
    {
     "name": "stdout",
     "output_type": "stream",
     "text": [
      "average tip % for female smokers : \n",
      "+-------------------+\n",
      "|avg(tip_percentage)|\n",
      "+-------------------+\n",
      "| 23.309090909090912|\n",
      "+-------------------+\n",
      "\n",
      "average tip % for female non-smokers : \n",
      "+-------------------+\n",
      "|avg(tip_percentage)|\n",
      "+-------------------+\n",
      "| 18.829629629629633|\n",
      "+-------------------+\n",
      "\n",
      "average tip % for male smokers : \n",
      "+-------------------+\n",
      "|avg(tip_percentage)|\n",
      "+-------------------+\n",
      "|  20.99833333333333|\n",
      "+-------------------+\n",
      "\n",
      "average tip % for male non-smokers : \n",
      "+-------------------+\n",
      "|avg(tip_percentage)|\n",
      "+-------------------+\n",
      "|  19.44020618556701|\n",
      "+-------------------+\n",
      "\n"
     ]
    }
   ],
   "source": [
    "print(f\"average tip % for female smokers : \")\n",
    "tips.filter(tips.sex =='Female').where(tips['smoker']=='Yes').select(F.avg(tips.tip_percentage)).show()\n",
    "print(f\"average tip % for female non-smokers : \")\n",
    "tips.filter(tips.sex =='Female').where(tips['smoker']=='No').select(F.avg(tips.tip_percentage)).show()\n",
    "print(f\"average tip % for male smokers : \")\n",
    "tips.filter(tips.sex =='Male').where(tips['smoker']=='Yes').select(F.avg(tips.tip_percentage)).show()\n",
    "print(f\"average tip % for male non-smokers : \")\n",
    "tips.filter(tips.sex =='Male').where(tips['smoker']=='No').select(F.avg(tips.tip_percentage)).show()"
   ]
  },
  {
   "cell_type": "markdown",
   "metadata": {},
   "source": [
    "\n",
    "#### Use the seattle weather dataset referenced in the lesson to answer the questions below.\n",
    "\n",
    "- Convert the temperatures to fahrenheit.\n",
    "- Which month has the most rain, on average?\n",
    "- Which year was the windiest?\n",
    "- What is the most frequent type of weather in January?\n",
    "- What is the average high and low temperature on sunny days in July in 2013 and 2014?\n",
    "- What percentage of days were rainy in q3 of 2015?\n",
    "- For each year, find what percentage of days it rained (had non-zero precipitation)."
   ]
  },
  {
   "cell_type": "code",
   "execution_count": 74,
   "metadata": {},
   "outputs": [],
   "source": [
    "from vega_datasets import data\n",
    "\n",
    "weather = data.seattle_weather().assign(date=lambda df: df.date.astype(str))\n",
    "weather = spark.createDataFrame(weather)"
   ]
  },
  {
   "cell_type": "code",
   "execution_count": 75,
   "metadata": {},
   "outputs": [
    {
     "name": "stdout",
     "output_type": "stream",
     "text": [
      "+----------+-------------+--------+--------+----+-------+\n",
      "|      date|precipitation|temp_max|temp_min|wind|weather|\n",
      "+----------+-------------+--------+--------+----+-------+\n",
      "|2012-01-01|          0.0|    12.8|     5.0| 4.7|drizzle|\n",
      "|2012-01-02|         10.9|    10.6|     2.8| 4.5|   rain|\n",
      "|2012-01-03|          0.8|    11.7|     7.2| 2.3|   rain|\n",
      "|2012-01-04|         20.3|    12.2|     5.6| 4.7|   rain|\n",
      "|2012-01-05|          1.3|     8.9|     2.8| 6.1|   rain|\n",
      "+----------+-------------+--------+--------+----+-------+\n",
      "only showing top 5 rows\n",
      "\n"
     ]
    }
   ],
   "source": [
    "weather.show(5)"
   ]
  },
  {
   "cell_type": "code",
   "execution_count": 76,
   "metadata": {},
   "outputs": [
    {
     "name": "stdout",
     "output_type": "stream",
     "text": [
      "+----------+-------------+----+-------+----------+----------+\n",
      "|      date|precipitation|wind|weather|temp_max_f|temp_min_f|\n",
      "+----------+-------------+----+-------+----------+----------+\n",
      "|2012-01-01|          0.0| 4.7|drizzle|     55.04|      41.0|\n",
      "|2012-01-02|         10.9| 4.5|   rain|     51.08|     37.04|\n",
      "|2012-01-03|          0.8| 2.3|   rain|     53.06|     44.96|\n",
      "|2012-01-04|         20.3| 4.7|   rain|     53.96|     42.08|\n",
      "|2012-01-05|          1.3| 6.1|   rain|     48.02|     37.04|\n",
      "|2012-01-06|          2.5| 2.2|   rain|     39.92|     35.96|\n",
      "|2012-01-07|          0.0| 2.3|   rain|     44.96|     37.04|\n",
      "|2012-01-08|          0.0| 2.0|    sun|      50.0|     37.04|\n",
      "|2012-01-09|          4.3| 3.4|   rain|     48.92|      41.0|\n",
      "|2012-01-10|          1.0| 3.4|   rain|     42.98|     33.08|\n",
      "|2012-01-11|          0.0| 5.1|    sun|     42.98|     30.02|\n",
      "|2012-01-12|          0.0| 1.9|    sun|     42.98|     28.94|\n",
      "|2012-01-13|          0.0| 1.3|    sun|      41.0|     26.96|\n",
      "|2012-01-14|          4.1| 5.3|   snow|     39.92|     33.08|\n",
      "|2012-01-15|          5.3| 3.2|   snow|     33.98|     26.06|\n",
      "|2012-01-16|          2.5| 5.0|   snow|     35.06|     26.96|\n",
      "|2012-01-17|          8.1| 5.6|   snow|     37.94|      32.0|\n",
      "|2012-01-18|         19.8| 5.0|   snow|      32.0|     26.96|\n",
      "|2012-01-19|         15.2| 1.6|   snow|     30.02|     26.96|\n",
      "|2012-01-20|         13.5| 2.3|   snow|     44.96|     30.02|\n",
      "+----------+-------------+----+-------+----------+----------+\n",
      "only showing top 20 rows\n",
      "\n"
     ]
    }
   ],
   "source": [
    "weather = weather.withColumn('temp_max_f', F.expr('ROUND(temp_max * 1.8 + 32, 2)')).drop('temp_max')\n",
    "weather = weather.withColumn('temp_min_f', F.expr('ROUND(temp_min * 1.8 + 32, 2)')).drop('temp_min')\n",
    "weather.show()"
   ]
  },
  {
   "cell_type": "code",
   "execution_count": 96,
   "metadata": {},
   "outputs": [
    {
     "name": "stdout",
     "output_type": "stream",
     "text": [
      "+---------------------+\n",
      "|max(average_rainfall)|\n",
      "+---------------------+\n",
      "|    5.354166666666667|\n",
      "+---------------------+\n",
      "\n"
     ]
    }
   ],
   "source": [
    "weather.withColumn(\"month\", F.month(\"date\")).groupBy(\"month\").agg(F.avg(\"precipitation\").alias(\"average_rainfall\")).agg(F.max('average_rainfall')).show()"
   ]
  },
  {
   "cell_type": "markdown",
   "metadata": {},
   "source": [
    "- Which year was the windiest?\n"
   ]
  },
  {
   "cell_type": "code",
   "execution_count": 135,
   "metadata": {},
   "outputs": [
    {
     "name": "stdout",
     "output_type": "stream",
     "text": [
      "+----+------------------+\n",
      "|year|          avg_wind|\n",
      "+----+------------------+\n",
      "|2012|3.4008196721311483|\n",
      "+----+------------------+\n",
      "only showing top 1 row\n",
      "\n"
     ]
    }
   ],
   "source": [
    "weather.withColumn('year',F.year(weather.date)).groupby( F.col('year')).agg(F.mean(weather.wind).alias('avg_wind')).sort(F.col('avg_wind').desc()).show(1)"
   ]
  },
  {
   "cell_type": "code",
   "execution_count": 137,
   "metadata": {},
   "outputs": [
    {
     "data": {
      "text/plain": [
       "Row(year=2012, avg_wind=3.4008196721311483)"
      ]
     },
     "execution_count": 137,
     "metadata": {},
     "output_type": "execute_result"
    }
   ],
   "source": [
    "## can also use .first but I don't like how it looks\n",
    "weather.withColumn('year',F.year(weather.date)).groupby( F.col('year')).agg(F.mean(weather.wind).alias('avg_wind')).sort(F.col('avg_wind').desc()).first()"
   ]
  },
  {
   "cell_type": "code",
   "execution_count": 97,
   "metadata": {},
   "outputs": [
    {
     "name": "stdout",
     "output_type": "stream",
     "text": [
      "+--------------------+\n",
      "|max(yearly_wind_avg)|\n",
      "+--------------------+\n",
      "|  3.4008196721311483|\n",
      "+--------------------+\n",
      "\n"
     ]
    }
   ],
   "source": [
    "weather.withColumn(\"year\", F.year(\"date\")).groupBy(\"year\").agg(F.avg(\"wind\").alias(\"yearly_wind_avg\")).agg(F.max('yearly_wind_avg')).show()"
   ]
  },
  {
   "cell_type": "markdown",
   "metadata": {},
   "source": [
    "- What is the most frequent type of weather in January?\n"
   ]
  },
  {
   "cell_type": "code",
   "execution_count": 140,
   "metadata": {},
   "outputs": [
    {
     "name": "stdout",
     "output_type": "stream",
     "text": [
      "+-------+-----+\n",
      "|weather|count|\n",
      "+-------+-----+\n",
      "|    fog|   38|\n",
      "+-------+-----+\n",
      "only showing top 1 row\n",
      "\n"
     ]
    }
   ],
   "source": [
    "weather.filter(F.month('date') == 1).groupBy(\"weather\").count().sort(F.col('count').desc()).show(1)\n",
    "\n",
    "## PAY ATTENTION TO WHAT YOUR COLUMNS ARE CALLED, sorting by weather when you really want the \"Count\" column that shows up below, won't get you the results you want."
   ]
  },
  {
   "cell_type": "markdown",
   "metadata": {},
   "source": [
    "- What is the average high and low temperature on sunny days in July in 2013 and 2014?\n"
   ]
  },
  {
   "cell_type": "code",
   "execution_count": 141,
   "metadata": {},
   "outputs": [
    {
     "name": "stdout",
     "output_type": "stream",
     "text": [
      "+-----------------+-----------------+\n",
      "|     average_high|      average_low|\n",
      "+-----------------+-----------------+\n",
      "|80.29192307692308|57.52884615384615|\n",
      "+-----------------+-----------------+\n",
      "\n"
     ]
    }
   ],
   "source": [
    "(\n",
    "    weather.filter(F.month('date') == 7)\n",
    "    .filter(F.year('date')>2012)\n",
    "    .filter(F.year('date')<2015)\n",
    "    .filter(F.col('weather') == F.lit('sun'))\n",
    "    .agg(\n",
    "        F.avg('temp_max_f').alias('average_high'),\n",
    "        F.avg('temp_min_f').alias('average_low')\n",
    "    )\n",
    "    .show()\n",
    ")"
   ]
  },
  {
   "cell_type": "code",
   "execution_count": 142,
   "metadata": {},
   "outputs": [],
   "source": [
    "# july_weather.filter(F.year('date') == 2013).show(5)"
   ]
  },
  {
   "cell_type": "markdown",
   "metadata": {},
   "source": [
    "- What percentage of days were rainy in q3 of 2015?\n"
   ]
  },
  {
   "cell_type": "code",
   "execution_count": 145,
   "metadata": {},
   "outputs": [],
   "source": [
    "### Looking at documentation, you can see quarter function."
   ]
  },
  {
   "cell_type": "code",
   "execution_count": 144,
   "metadata": {},
   "outputs": [
    {
     "name": "stdout",
     "output_type": "stream",
     "text": [
      "+--------------------+\n",
      "|           avg(rain)|\n",
      "+--------------------+\n",
      "|0.021739130434782608|\n",
      "+--------------------+\n",
      "\n"
     ]
    }
   ],
   "source": [
    "(\n",
    "    weather.filter(F.year('date') == 2015)\n",
    "    .filter(F.quarter('date')==3)\n",
    "    .select(F.when(\n",
    "        F.col('weather')=='rain',1).otherwise(0).alias('rain'))\n",
    "    .agg(F.mean('rain'))\n",
    "    .show()\n",
    ")"
   ]
  },
  {
   "cell_type": "markdown",
   "metadata": {},
   "source": [
    "- For each year, find what percentage of days it rained (had non-zero precipitation)."
   ]
  },
  {
   "cell_type": "code",
   "execution_count": 149,
   "metadata": {},
   "outputs": [
    {
     "name": "stdout",
     "output_type": "stream",
     "text": [
      "+----+-------------------+\n",
      "|year|      avg(did_rain)|\n",
      "+----+-------------------+\n",
      "|2012|0.48360655737704916|\n",
      "|2013|0.41643835616438357|\n",
      "|2014|  0.410958904109589|\n",
      "|2015|0.39452054794520547|\n",
      "+----+-------------------+\n",
      "\n"
     ]
    }
   ],
   "source": [
    "(\n",
    "    weather.withColumn(\n",
    "        'year', F.year('date')\n",
    "    )\n",
    "    .select(F.when(\n",
    "        F.col('precipitation') > 0, 1\n",
    "    ).otherwise(0).alias('did_rain'),'year')\n",
    "    .groupby('year')\n",
    "    .agg(F.mean('did_rain'))\n",
    "    .show()\n",
    ")"
   ]
  },
  {
   "cell_type": "code",
   "execution_count": 150,
   "metadata": {},
   "outputs": [],
   "source": [
    "# Spark's verbage and structure makes my head hurt...."
   ]
  }
 ],
 "metadata": {
  "kernelspec": {
   "display_name": "Python 3.9.12 ('base')",
   "language": "python",
   "name": "python3"
  },
  "language_info": {
   "codemirror_mode": {
    "name": "ipython",
    "version": 3
   },
   "file_extension": ".py",
   "mimetype": "text/x-python",
   "name": "python",
   "nbconvert_exporter": "python",
   "pygments_lexer": "ipython3",
   "version": "3.9.12"
  },
  "orig_nbformat": 4,
  "vscode": {
   "interpreter": {
    "hash": "3067ead486e059ec00ffe7555bdb889e6e264a24dc711bf108106cc7baee8d5d"
   }
  }
 },
 "nbformat": 4,
 "nbformat_minor": 2
}
